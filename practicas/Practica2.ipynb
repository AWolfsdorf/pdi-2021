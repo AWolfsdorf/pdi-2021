{
 "cells": [
  {
   "cell_type": "code",
   "execution_count": 10,
   "id": "coastal-huntington",
   "metadata": {},
   "outputs": [],
   "source": [
    "import numpy as np\n",
    "from scipy.signal import convolve2d"
   ]
  },
  {
   "cell_type": "markdown",
   "id": "western-glenn",
   "metadata": {},
   "source": [
    "# Ejercicio 1"
   ]
  },
  {
   "cell_type": "code",
   "execution_count": 2,
   "id": "optional-wings",
   "metadata": {},
   "outputs": [],
   "source": [
    "def convol_1d(xs, ys):\n",
    "    print(\"Convolve 1d:\", xs, ys)\n",
    "    starting_point = int(np.trunc(len(ys)/2))\n",
    "    padded_xs = np.pad(xs, (starting_point,starting_point), 'constant', constant_values=(0,0))\n",
    "    ending_point = len(padded_xs) - starting_point\n",
    "    ys_reversed = np.flip(ys)\n",
    "    res = np.zeros(len(padded_xs))\n",
    "    for pos in range(starting_point, ending_point):\n",
    "        accum = 0\n",
    "        for y_index in range(len(ys_reversed)):\n",
    "            accum += (ys_reversed[y_index] * padded_xs[pos + y_index - starting_point])\n",
    "        res[pos] = accum\n",
    "    return res.astype(np.int64)"
   ]
  },
  {
   "cell_type": "code",
   "execution_count": 11,
   "id": "hybrid-decline",
   "metadata": {},
   "outputs": [
    {
     "name": "stdout",
     "output_type": "stream",
     "text": [
      "Convolve 1d: [0 1 0 0 0 0] [0 2 1 0 0]\n",
      "[0 0 2 1 0 0 0 0 0 0]\n",
      "[0 0 2 1 0 0 0 0 0 0]\n"
     ]
    }
   ],
   "source": [
    "xs1 = np.array([0, 1, 0, 0, 0, 0])\n",
    "h1 = np.array([0, 2, 1, 0, 0])\n",
    "\n",
    "print(convol_1d(xs1, h1))\n",
    "print(np.convolve(xs1, h1, mode='full'))"
   ]
  },
  {
   "cell_type": "code",
   "execution_count": 4,
   "id": "endangered-justice",
   "metadata": {},
   "outputs": [
    {
     "name": "stdout",
     "output_type": "stream",
     "text": [
      "Convolve 1d: [0 0 1 0 0 0] [0 2 1 0 0]\n",
      "[0 0 0 2 1 0 0 0 0 0]\n",
      "[0 0 0 2 1 0 0 0 0 0]\n"
     ]
    }
   ],
   "source": [
    "xs2 = np.array([0, 0, 1, 0, 0, 0])\n",
    "h2 = h1\n",
    "\n",
    "print(convol_1d(xs2, h2))\n",
    "print(np.convolve(xs2, h2, mode='full'))"
   ]
  },
  {
   "cell_type": "code",
   "execution_count": 5,
   "id": "dirty-violation",
   "metadata": {},
   "outputs": [
    {
     "name": "stdout",
     "output_type": "stream",
     "text": [
      "Convolve 1d: [ 0  2 -1  0  0  0] [ 0 -1  2  1  0]\n",
      "[ 0  0 -2  5  0 -1  0  0  0  0]\n",
      "[ 0  0 -2  5  0 -1  0  0  0  0]\n"
     ]
    }
   ],
   "source": [
    "xs3 = np.array([0, 2, -1, 0, 0, 0])\n",
    "h3 = np.array([0, -1, 2, 1, 0])\n",
    "\n",
    "print(convol_1d(xs3, h3))\n",
    "print(np.convolve(xs3, h3, mode='full'))"
   ]
  },
  {
   "cell_type": "code",
   "execution_count": 6,
   "id": "breeding-match",
   "metadata": {},
   "outputs": [],
   "source": [
    "# xs3 = np.array([0, 2, -1, 0, 0, 0])\n",
    "# h3 = np.array([0, -1, 2, 1, 0])\n",
    "\n",
    "# print(convol_1d(xs3, h3))\n",
    "# print(np.convolve(xs3, h3, mode='full'))"
   ]
  },
  {
   "cell_type": "markdown",
   "id": "intended-tattoo",
   "metadata": {},
   "source": [
    "# Ejercicio 2"
   ]
  },
  {
   "cell_type": "code",
   "execution_count": 9,
   "id": "subtle-delay",
   "metadata": {},
   "outputs": [
    {
     "name": "stdout",
     "output_type": "stream",
     "text": [
      "[[ 0 -1 -3  3  1]\n",
      " [-1 -2 11  2  2]\n",
      " [-2  2 11  6 -3]\n",
      " [ 0 -2 -5 -3  0]]\n",
      "[[ 1  6 12 14  3]\n",
      " [ 2  9 19 21  9]]\n",
      "[[-2 -8 -2]\n",
      " [-1  2 -3]\n",
      " [ 5 11  8]\n",
      " [-2 -5 -3]]\n"
     ]
    }
   ],
   "source": [
    "I = np.array([[1,4,1],\n",
    "              [2,5,3]])\n",
    "\n",
    "convi = np.array([\n",
    "    [0,-1,1],\n",
    "    [-1,4,-1],\n",
    "    [0,-1,0]\n",
    "])\n",
    "\n",
    "convii = np.array([\n",
    "    [1,2,3]\n",
    "])\n",
    "\n",
    "conviii = np.array([\n",
    "    [-2],\n",
    "    [3],\n",
    "    [-1]\n",
    "])\n",
    "\n",
    "print(convolve2d(I, convi))\n",
    "print(convolve2d(I, convii))\n",
    "print(convolve2d(I, conviii))"
   ]
  },
  {
   "cell_type": "markdown",
   "id": "connected-howard",
   "metadata": {},
   "source": [
    "b) \n",
    "Dado el algoritmo que se nos da para hacer la convolucion I * H matrices de (M1,N1) y (M2,N2) respectivamente, se puede ver que a la matriz resultante es del mismo tamaño que I con un extra de padding necesario para centrar H en cada punto de I.\n",
    "Por ejemplo, para centrar H en la posicion (0,0) de I, es necesario agregarle M2/2 -0.5 filas y N2/2-0.5 columnas (Con M2 y N2 impares). de esta forma se le agrega en 2*(M2/2-0.5) = M2-1  filas y N2-1 columnas, con lo cual la matriz resultante termina siendo de dimensión (M1+M2-1, N1+N2-1)"
   ]
  },
  {
   "cell_type": "code",
   "execution_count": 73,
   "id": "specified-physics",
   "metadata": {},
   "outputs": [],
   "source": [
    "def convolve2d(I, H, fun=np.inner):\n",
    "    sp = (int(H.shape[0]/2 - 0.5), int(H.shape[1]/2 - 0.5))\n",
    "    I = np.pad(I, ((sp[0],sp[0]), (sp[1],sp[1])), 'constant', constant_values=(0,0))\n",
    "    H = np.flip(H)\n",
    "    ep = (I.shape[0]-1-sp[0], I.shape[1]-1-sp[1])\n",
    "    \n",
    "    result_matrix = np.zeros(I.shape)\n",
    "    for row in range(sp[0], ep[0]+1):\n",
    "        for col in range(sp[1], ep[1]+1):\n",
    "            sub_matrix_row_start = row-sp[0]\n",
    "            sub_matrix_row_end = sub_matrix_row_start + H.shape[0]\n",
    "            sub_matrix_col_start = col-sp[1]\n",
    "            sub_matrix_col_end = sub_matrix_col_start + H.shape[1]\n",
    "            \n",
    "            sub_matrix = I[sub_matrix_row_start:sub_matrix_row_end, sub_matrix_col_start:sub_matrix_col_end]\n",
    "            fun(sub_matrix)"
   ]
  },
  {
   "cell_type": "code",
   "execution_count": 74,
   "id": "worldwide-reynolds",
   "metadata": {},
   "outputs": [
    {
     "name": "stdout",
     "output_type": "stream",
     "text": [
      "[[ 0  0 -1]]\n",
      "[[ 0 -1  1]]\n",
      "[[-1  1  0]]\n",
      "[[ 0 -1  4]]\n",
      "[[-1  4 -1]]\n",
      "[[ 4 -1  0]]\n",
      "[[ 0  0 -1]]\n",
      "[[ 0 -1  0]]\n",
      "[[-1  0  0]]\n"
     ]
    }
   ],
   "source": [
    "convolve2d(convi, convii)"
   ]
  },
  {
   "cell_type": "code",
   "execution_count": null,
   "id": "downtown-establishment",
   "metadata": {},
   "outputs": [],
   "source": []
  }
 ],
 "metadata": {
  "kernelspec": {
   "display_name": "Python 3",
   "language": "python",
   "name": "python3"
  },
  "language_info": {
   "codemirror_mode": {
    "name": "ipython",
    "version": 3
   },
   "file_extension": ".py",
   "mimetype": "text/x-python",
   "name": "python",
   "nbconvert_exporter": "python",
   "pygments_lexer": "ipython3",
   "version": "3.8.0"
  }
 },
 "nbformat": 4,
 "nbformat_minor": 5
}
